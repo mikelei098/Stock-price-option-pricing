{
 "cells": [
  {
   "cell_type": "markdown",
   "metadata": {},
   "source": [
    "Group:\n",
    "* Minjie Zhu\n",
    "* Hanchao Lei\n",
    "* Anass Meskini"
   ]
  },
  {
   "cell_type": "markdown",
   "metadata": {},
   "source": [
    "Define: $L(t) = L(t, T - \\Delta,T)$\n",
    "\n",
    "We want to price the contract paying at $T$:\n",
    "$$\\max \\big[0,\\left(\\frac{S(T)}{S(0)} - k \\right) \\left(\\frac{L(T)}{L(0)}-k' \\right)\\big]$$"
   ]
  },
  {
   "cell_type": "markdown",
   "metadata": {},
   "source": [
    "# Section 1: LIBOR market model"
   ]
  },
  {
   "cell_type": "markdown",
   "metadata": {},
   "source": [
    "Since  $B^fX$ is a traded asset, $\\frac{B^fX}{B^d}$ is a $Q^d$-martingale and:\n",
    "\n",
    "$$\\frac{dX}{X} = (r_d - r_f) dt + \\sigma_X dW_X^d(t)$$\n",
    "We work under the measure $Q^T$ and assume the dynamics for LIBOR:\n",
    "$$dL(t) = L(t)\\sigma_L(t) dW^T_L(t)$$\n",
    "\n",
    "We also have:\n",
    "$$\\frac{dS}{S} = (r_f - \\sigma_S\\sigma_X\\rho_{SX} + \\sigma_S\\sigma_T\\rho_{ST}) dt + \\sigma_SdW^T_S(t)$$\n",
    "\n",
    "With:\n",
    "\n",
    "$$<dW_X^d, dW_S^d> = \\rho_{SX}dt$$\n",
    "$$<dW_S^d, dW_T^d> = \\rho_{ST}dt$$\n",
    "$$<dW_S^d, dW_L^d> = \\rho_{SL}dt$$\n",
    "If we assume that the correlations are constant, we have a closed form for both processes under $Q^T$:\n",
    "\n",
    "\\begin{aligned}\n",
    "& S(T) = S(0) e^{(\\mu_S - \\frac{\\sigma_S^2}{2})T + \\sigma_S W^S_T(t)} \\\\ \n",
    "& L(T-\\Delta) = L(0) e^{ -\\frac{\\sigma_L^2}{2}(T-\\Delta) + \\sigma_L W^T_L (T-\\Delta)}\n",
    "\\end{aligned}\n",
    "\n",
    "And we can price the option with a one step Monte-Carlo simulation."
   ]
  },
  {
   "cell_type": "markdown",
   "metadata": {},
   "source": [
    "## Price an option"
   ]
  },
  {
   "cell_type": "code",
   "execution_count": 18,
   "metadata": {},
   "outputs": [
    {
     "name": "stdout",
     "output_type": "stream",
     "text": [
      "Option value: 0.31\n"
     ]
    }
   ],
   "source": [
    "import numpy as np\n",
    "\n",
    "# market info\n",
    "rf = .01     # risk-free rate\n",
    "volS = .05   # volatility of S\n",
    "volX = .05   # volatility of X \n",
    "volT = .01   # volatility of p(t,T)\n",
    "volL = .05   # volatility of L(t,T)\n",
    "corrSX = 0.0  # correlation of S, X\n",
    "corrST = 0.0  # correlation of S, p(t,T)\n",
    "corrSL = 0.3  # correlation of S, L\n",
    "p_0_T = 0.75  # p(0, T)\n",
    "\n",
    "# option parameters\n",
    "stock_strike = 2.   # k\n",
    "libor_strike = 1.5  # k'\n",
    "T = 20      # maturity\n",
    "delta_T = 2 #\n",
    "\n",
    "# MC parameters\n",
    "Nsim = 100000\n",
    "\n",
    "\n",
    "val = .0\n",
    "for i in range(Nsim):\n",
    "    # generate two correlated normals\n",
    "    z0 = np.random.normal()\n",
    "    z1 = corrSL * z0 + np.sqrt(1 - corrSL**2) * np.random.normal()\n",
    "    \n",
    "    # generate the stock price\n",
    "    drift = rf + volS*volX*corrSX + volS*volT*corrST\n",
    "    stock_ratio = np.exp((drift -  0.5 * volS**2 ) * T + volS * np.sqrt(T) * z0)\n",
    "    \n",
    "    # generate the LIBOR\n",
    "    libor_ratio = np.exp((-0.5 * volL **2) * (T-delta_T) + volL * np.sqrt(T-delta_T) * z1)\n",
    "    \n",
    "    val += max((stock_ratio - stock_strike) * (libor_ratio - libor_strike), 0.)\n",
    "\n",
    "print(\"Option value: {:.2f}\".format(p_0_T * val / Nsim))"
   ]
  },
  {
   "cell_type": "markdown",
   "metadata": {},
   "source": [
    "## Hetson model"
   ]
  },
  {
   "cell_type": "markdown",
   "metadata": {},
   "source": [
    "We now relax the assumption of a constant stock volatitlity and use a stochastic volatility model specifically the Hetson model. Under real world probabilities, we have:\n",
    "\n",
    "$$\\frac{dS}{S} = \\mu dt + \\sqrt{v_t}dW^P_1(t)$$\n",
    "$$dv_t = k(v_{0} - v_t)dt + \\xi  c dW^P_2$$\n",
    "\n",
    "With $<dW^P_1, dW^P_2> = \\rho_{SV}dt$. $S$ is traded so under foreign risk-neutral measure, we have: \n",
    "$$\\frac{dS}{S} = r_fdt + \\sqrt{v_t}dW^f_1(t)$$\n",
    "\n",
    "$v_t$ is not traded. If $\\lambda_t$ is its market price of risk, we have:\n",
    "$$dv_t = k(v_{0} - v_t - \\lambda_t \\xi \\sqrt{v_t})dt + \\xi  \\sqrt{v_t} dW^f_2$$"
   ]
  },
  {
   "cell_type": "markdown",
   "metadata": {},
   "source": [
    "Under the $Q^T$ measure we have:\n",
    "$$\\frac{dS}{S} = (r_f + \\beta_0 \\sqrt{v_t}) dt + \\sqrt{v_t}dW^T_S(t)$$\n",
    "\n",
    "$$dv_t = k(v_{0} - v_t + \\beta_1 \\sqrt{v_t})dt + \\xi  \\sqrt{v_t} dW^T_v$$\n",
    "\n",
    "with: $\\beta_0 = \\sigma_T\\rho_{ST} - \\sigma_X\\rho_{SX}$\n",
    "and $\\beta_1 = \\xi (\\sigma_T\\rho_{VT} - \\sigma_X\\rho_{VX} - \\lambda)$ if we choose a constant market price of risk for volatility linked contracts.\n",
    "\n",
    "The Feller condition is:\n",
    "$2kv_0 > \\xi^2$"
   ]
  },
  {
   "cell_type": "code",
   "execution_count": 19,
   "metadata": {},
   "outputs": [
    {
     "name": "stdout",
     "output_type": "stream",
     "text": [
      "Option value: 0.44\n"
     ]
    }
   ],
   "source": [
    "# Hetson model parameters\n",
    "k = 0.2     # rate of reversion\n",
    "v0 = volS   # volatility mean\n",
    "xi = .02    # volatility of variance \n",
    "corrSV = .1 # correlation between the stock and its variance\n",
    "corrVT = .0 # correlation between vol and the bond\n",
    "corrVX = .3 # correlation between vol and the X\n",
    "lam = .1    # market price of risk for volatility linked contracts\n",
    "beta0 = volS * corrST - volX * corrSX\n",
    "beta1 = xi* (volT * corrVT - volX * corrVX - lam)\n",
    "\n",
    "Nsteps = 100\n",
    "def simStock():\n",
    "    dt = T / Nsteps\n",
    "    WS = 0\n",
    "    S = 1.\n",
    "    v = v0\n",
    "    \n",
    "    for i in range(Nsteps):\n",
    "        # generate two correlated normals\n",
    "        z0 = np.random.normal()\n",
    "        z1 = corrSV * z0 + np.sqrt(1 - corrSV**2) * np.random.normal()\n",
    "        \n",
    "        # generate correlated brownian increments\n",
    "        dWS = np.sqrt(dt) * z0\n",
    "        dWV = np.sqrt(dt) * z1\n",
    "        WS += dWS\n",
    "        \n",
    "        # update stock process\n",
    "        drift = rf + np.sqrt(v) * beta0\n",
    "        S += S * (drift * dt + np.sqrt(v) * dWS)\n",
    "        \n",
    "        # update variance\n",
    "        dv = k * (v0 - v + beta1 * np.sqrt(v)) * dt + xi * np.sqrt(v) * dWV\n",
    "        while v + dv < 0.:\n",
    "            dv = k * (v0 - v + beta1 * np.sqrt(v)) * dt + xi * np.sqrt(v) * np.sqrt(dt) * np.random.normal()\n",
    "        v += dv\n",
    "        \n",
    "    return S, WS\n",
    "\n",
    "T = 20\n",
    "delta_T = 2\n",
    "Nsim = 1000\n",
    "val = .0\n",
    "for i in range(Nsim):\n",
    "    # generate the stock price\n",
    "    drift = rf + volS*volX*corrSX + volS*volT*corrST\n",
    "    stock_ratio, WT = simStock()\n",
    "    \n",
    "    # generate the LIBOR\n",
    "    z0 = WT / np.sqrt(T)\n",
    "    z1 = corrSL * z0 + np.sqrt(1 - corrSL**2) * np.random.normal()\n",
    "    libor_ratio = np.exp((-0.5 * volL **2) * (T-delta_T) + volL * np.sqrt(T-delta_T) * z1)\n",
    "    \n",
    "    val += max((stock_ratio - stock_strike) * (libor_ratio - libor_strike), 0.)\n",
    "\n",
    "print(\"Option value: {:.2f}\".format(p_0_T * val / Nsim))"
   ]
  },
  {
   "cell_type": "markdown",
   "metadata": {},
   "source": [
    "We see that under stochastic volatility, the contract has a higher fair value which is consistent with economic intuition."
   ]
  },
  {
   "cell_type": "markdown",
   "metadata": {},
   "source": [
    "# Section 2: Libor with Hull-White model"
   ]
  },
  {
   "cell_type": "code",
   "execution_count": 20,
   "metadata": {},
   "outputs": [],
   "source": [
    "## simulation function for stock price\n",
    "\n",
    "def sim_S(S0, r, q, cov, s, T, n, dW):\n",
    "    \"\"\"\n",
    "       S0:   initial stock price\n",
    "       r:    return rate of the stock\n",
    "       q:    dividend yield\n",
    "       cov:  covariance between stock price and exchange rate\n",
    "       s:    volatility of the stock price\n",
    "       T:    time at the maturity\n",
    "       n:    number of simulation peirod\n",
    "       dW:   array of numbers sample from normal distribution\n",
    "       return:\n",
    "       S:    sock price at maturity\n",
    "    \"\"\"\n",
    "    \n",
    "    S = S0\n",
    "    dt = T/n\n",
    "    sqdt = np.sqrt(dt)\n",
    "    \n",
    "    for i in range(n):\n",
    "        delta = (r-q-cov)*dt + s*sqdt*dW[i]\n",
    "        dS = delta*S\n",
    "        S = S +dS\n",
    "    \n",
    "    return S"
   ]
  },
  {
   "cell_type": "markdown",
   "metadata": {},
   "source": [
    "according to the Hull-White model, the interest rate is:\n",
    "\n",
    "$$ dr(t) = (\\theta(t) -ar)dt +\\sigma_rdZ^{Q^d} $$\n",
    "\n",
    "$\\theta(t)$ is fitted from the observed bond price $p(0,t)$ \\\n",
    "$ar$ and $\\sigma_r$ is the mean reversion and volatility\n",
    "\n",
    "By the definition of Libor, we have:\n",
    "\n",
    "$$L( T-\\bigtriangleup , T-\\bigtriangleup, T) = \\frac{p(T-\\bigtriangleup, T-\\bigtriangleup) - p(T-\\bigtriangleup,T)}{\\bigtriangleup p(T-\\bigtriangleup,T)}$$\n",
    "\n",
    "and Hull-White model has closed form for p(t,T), which is:\n",
    "\n",
    "$$p(t,T) = \\frac{p(0,T)}{p(0,t)}e^{B(t,T)f(0,t)-\\frac{\\sigma^2}{4a}B^2(t,T)(1-e^{-2at})-B(t,T)r(t)}$$\n",
    "\n",
    "$$B(t,T) = \\frac{1}{a}(1-e^{-a(T-t)})$$\n",
    "\n",
    "$p(0,T)$, $p(0,t)$, and $f(0,t)$ are observable at the beginning \n",
    "\n",
    "Therefore, we can estimate Libor rate\n",
    "\n",
    "## Note:\n",
    "\n",
    "We will simulate the stock price and rate at the same time, so we need to assume there is a correlation between the interest rate and the stock price, $rho$. The $dZ^{Q^d}$ and $dW^{Q^d}$ need to have a correlation of $rho$\n",
    "\n",
    "## Code:"
   ]
  },
  {
   "cell_type": "code",
   "execution_count": 21,
   "metadata": {},
   "outputs": [
    {
     "name": "stdout",
     "output_type": "stream",
     "text": [
      "option value 0.44000423729715177\n"
     ]
    },
    {
     "data": {
      "text/plain": [
       "0.9179004847782343"
      ]
     },
     "execution_count": 21,
     "metadata": {},
     "output_type": "execute_result"
    }
   ],
   "source": [
    "## assume a function for the bond price, which is used in Hull-White model \n",
    "def p(t):\n",
    "    return 1/(0.02*np.sqrt(t)+1)\n",
    "\n",
    "## derive the function for instantaneous forward rate f(0,t) based on p(t) we just assume\n",
    "def f(t):\n",
    "    return 0.5/((0.015*np.sqrt(t)+1)*t)\n",
    "\n",
    "## simulation function for r(t)\n",
    "\n",
    "def sim_r(a, s, T, dz, r0, n):\n",
    "    \"\"\"\n",
    "       r0: starting value for r(0)\n",
    "       theta_t: value fitted rate curve at time t\n",
    "       a: coefficient for r\n",
    "       s: volatility of r\n",
    "       T: final time\n",
    "       dz: sampled from normal distribution\n",
    "       return:\n",
    "       r_t: r(T)\n",
    "    \"\"\"\n",
    "    dt = T/n\n",
    "    r = r0\n",
    "    t = 0\n",
    "    sqdt = np.sqrt(dt)\n",
    "    for i in range(n):\n",
    "        dr = (p(t) - a*r)*dt + s*sqdt*dz[i]\n",
    "        r += dr\n",
    "        t += dt\n",
    "    return r\n",
    "\n",
    "\n",
    "## simulation for p(t,T)\n",
    "\n",
    "def sim_p_t_T(p_T, p_t, f_t, a, s, r_t, T, t):\n",
    "    \"\"\"\n",
    "       p_T: value of p(0,T)\n",
    "       p_t: value of p(0,t)\n",
    "       f_t: value of f(0,t)\n",
    "       a: coefficient of mean reversion\n",
    "       s: sigma of the rate\n",
    "       r_t: r(t) estimated by Hull-White model\n",
    "       T: time at maturity\n",
    "       t: T-delta\n",
    "       return:\n",
    "       p_t_T: value of p(t,T)\n",
    "    \"\"\"\n",
    "    \n",
    "    B = 1/a*(1-np.exp(-a*(T-t)))\n",
    "    p_t_T = p_T/p_t*np.exp(B*f_t-s**2/(4*a)*B**2*(1-np.exp(-2*a*t))-B*r_t)\n",
    "    return p_t_T\n",
    "\n",
    "\n",
    "##\n",
    "def sim_dwdz(n, rho):\n",
    "    \"\"\"\n",
    "       generate two arrays dW and dZ, where they are normally distributed and have a correlation of rho\n",
    "       \n",
    "       n = length of the array\n",
    "       rho = value of correlation\n",
    "    \"\"\"\n",
    "    dW = np.zeros(n)\n",
    "    dZ = np.zeros(n)\n",
    "    for i in range(n):\n",
    "        dW[i] = np.random.normal()\n",
    "        dZ[i] = rho * dW[i] + np.sqrt(1 - rho**2) * np.random.normal()\n",
    "    return dW, dZ\n",
    "\n",
    "## simulation for option price \n",
    "\n",
    "# stock info\n",
    "rf = .01     # risk-free rate\n",
    "volS = .05   # volatility of S\n",
    "volX = .05   # volatility of X \n",
    "volL = .05   # volatility of L(t,T)\n",
    "corrSX = 0.0  # correlation of S, X\n",
    "S0 = 1.\n",
    "\n",
    "# hull-white parameters\n",
    "a = 1\n",
    "s = 0.05\n",
    "r0 = 10\n",
    "\n",
    "# option parameters\n",
    "stock_strike = 2.   # k\n",
    "libor_strike = 1.5  # k'\n",
    "T =20      # maturity\n",
    "delta_T = 2 #\n",
    "\n",
    "n = 100 # number of trials\n",
    "N = 10000 # nunmber of simulation\n",
    "\n",
    "val = 0\n",
    "for i in range(N):\n",
    "    \n",
    "    \n",
    "    t = T-delta_T\n",
    "    dW,dZ = sim_dwdz(n, corrSX)\n",
    "    S = sim_S(S0, rf, 0, corrSX*volS*volX, volS, T, n, dW)\n",
    "    \n",
    "    r_t = sim_r(a, s, t, dZ, r0, n)\n",
    "    p_t_T = sim_p_t_T(p(T), p(t), f(t), a, s, r_t, T, t)\n",
    "    \n",
    "    libor = (1-p_t_T)/(delta_T*p_t_T)\n",
    "    \n",
    "    initial_libor = (p(t)-p(T))/(delta_T*p(T))\n",
    "    \n",
    "    libor_ratio = libor/initial_libor\n",
    "    \n",
    "    val += max((S - stock_strike) * (libor_ratio - libor_strike), 0.)\n",
    "\n",
    "\n",
    "print(\"option value\", p(T)*val/N)"
   ]
  },
  {
   "cell_type": "markdown",
   "metadata": {},
   "source": [
    "# Section 3: Ho-Lee Interest Rate Model\n",
    "Ho-Lee short rate model has the following format:\n",
    "$$dr=\\theta(t)dt+\\sigma dW(t)^Q$$"
   ]
  },
  {
   "cell_type": "markdown",
   "metadata": {},
   "source": [
    "We import the bond yield to maturity from FRED and forward rates from quandl"
   ]
  },
  {
   "cell_type": "code",
   "execution_count": 22,
   "metadata": {},
   "outputs": [],
   "source": [
    "import numpy as np\n",
    "import pandas as pd\n",
    "import quandl\n",
    "import matplotlib.pyplot as plt"
   ]
  },
  {
   "cell_type": "code",
   "execution_count": 23,
   "metadata": {},
   "outputs": [],
   "source": [
    "rf = .01     # risk-free rate\n",
    "volS = .05   # volatility of S\n",
    "volX = .05   # volatility of X \n",
    "volL = .05   # volatility of L(t,T)\n",
    "corrSX = 0.0  # correlation of S, X\n",
    "corrST = 0.0  # correlation of S, p(t,T)\n",
    "corrSL = 0.3  # correlation of S, L\n",
    "p_0_T = 0.90  # p(0, T)\n",
    "volT = 0\n",
    "\n",
    "# option parameters\n",
    "stock_strike = 2.   # k\n",
    "libor_strike = 1.5  # k'\n",
    "T = 20      # maturity\n",
    "delta_T = 2 #"
   ]
  },
  {
   "cell_type": "code",
   "execution_count": 24,
   "metadata": {},
   "outputs": [],
   "source": [
    "def GetFREDMatrix(seriesnames,progress=False,startdate=None,enddate=None):\n",
    "    import pandas as pd\n",
    "    import numpy as np\n",
    "    import fredapi\n",
    "    fred = fredapi.Fred(api_key='fd97b1fdb076ff1a86aff9b38d7a0e70')\n",
    "\n",
    "    #Get each time series and load it into a common dataframe\n",
    "    initialize=True\n",
    "    for sn in seriesnames:\n",
    "        if progress: print('Processing ',sn)\n",
    "        fs=fred.get_series(sn,observation_start=startdate, \\\n",
    "                           observation_end=enddate)\n",
    "        fs=fs.rename(sn)   #put the name on the column\n",
    "        if initialize:\n",
    "            #Set up the dataframe with the first series\n",
    "            df=pd.DataFrame(fs)\n",
    "            initialize=False\n",
    "        else:\n",
    "            #concatenate the next series to the dataframe\n",
    "            df=pd.concat([df,fs],axis=1)\n",
    "    \n",
    "    #The dataframe has aligned the dates\n",
    "    #strip out date series\n",
    "    cdates=df.index.strftime('%Y-%m-%d').tolist()\n",
    "    ratematrix=[list(df.iloc[i]) for i in range(len(df))]\n",
    "    return(cdates,ratematrix)\n",
    "#Done with GetFREDMatrix"
   ]
  },
  {
   "cell_type": "code",
   "execution_count": 25,
   "metadata": {},
   "outputs": [],
   "source": [
    "seriesnames=['DGS1MO','DGS3MO','DGS6MO','DGS1',\n",
    "             'DGS2','DGS3','DGS5','DGS7',\n",
    "             'DGS10','DGS20','DGS30']\n",
    "cdates,ratematrix=GetFREDMatrix(seriesnames)\n",
    "hist_forward_rates=quandl.get(\"FED/SVENF\")\n",
    "sigma_r=0.05"
   ]
  },
  {
   "cell_type": "markdown",
   "metadata": {},
   "source": [
    "We use the most recent bond data and perform a linear interpolation\n",
    "$$\\frac{y-y_0}{x-x_0}=\\frac{y_1-y_0}{x_1-x_0}$$\n",
    "between the yield rate for the observable maturities.\n",
    "We then price the bonds using\n",
    "$$p(0,T)=\\frac{1}{(y(0,T)+1)^T}$$\n",
    "where $y(0,T)$ are the interpolated yield to maturities."
   ]
  },
  {
   "cell_type": "code",
   "execution_count": 26,
   "metadata": {},
   "outputs": [],
   "source": [
    "ytm=ratematrix[-1]\n",
    "maturities=[1/12,1/4,1/2,1,2,3,5,7,10,20,30]\n",
    "interp_yield=[ytm[0]]\n",
    "for i in range(len(maturities)-1):\n",
    "    interp_yield=interp_yield+list(np.linspace(ytm[i],ytm[i+1],int((maturities[i+1]-maturities[i])*12+1)))[1:]\n",
    "interp_maturities=np.linspace(1/12,30,360)\n",
    "bond_price=1/(np.array(interp_yield)/100+1)**interp_maturities\n",
    "bond_price=np.insert(bond_price,0,1)\n",
    "#bond price at t=0"
   ]
  },
  {
   "cell_type": "markdown",
   "metadata": {},
   "source": [
    "We use the most recent forward rate data and perform a linear interpolation\n",
    "$$\\frac{y-y_0}{x-x_0}=\\frac{y_1-y_0}{x_1-x_0}$$\n",
    "between the forward rates for the observable maturities."
   ]
  },
  {
   "cell_type": "code",
   "execution_count": 27,
   "metadata": {},
   "outputs": [],
   "source": [
    "forward_rate=hist_forward_rates.iloc[-1].values\n",
    "forward_rate=np.insert(forward_rate,0,0.08) / 100\n",
    "forward_maturities=[0,1,2,3,4,5,6,7,8,9,10,11,12,13,14,15,16,17,18,19,20,21,22,23,24,25,26,27,28,29,30]\n",
    "interp_rate=[forward_rate[0]]\n",
    "for i in range(len(forward_maturities)-1):\n",
    "    interp_rate=interp_rate+list(np.linspace(forward_rate[i],forward_rate[i+1],13))[1:]\n",
    "#instantaneous forward rate at t=0"
   ]
  },
  {
   "cell_type": "markdown",
   "metadata": {},
   "source": [
    "We use first order difference\n",
    "$$\\frac{\\delta f^*}{\\delta T}(0,T)\\approx\\frac{f(0,T)-f(0,T-\\delta t)}{\\delta t}$$ and $$\\frac{\\delta f^*}{\\delta T}(0,T)\\approx\\frac{f(0,T+\\delta t)-f(0,T)}{\\delta t}$$\n",
    "to approximate derivatives at the end points and use second order central difference\n",
    "$$\\frac{\\delta f^*}{\\delta T}(0,T)\\approx\\frac{f(0,T+\\delta t)-f(0,T-\\delta t)}{2\\delta t}$$\n",
    "to approximate derivatives for the interior points"
   ]
  },
  {
   "cell_type": "code",
   "execution_count": 28,
   "metadata": {},
   "outputs": [],
   "source": [
    "front=(interp_rate[1]-interp_rate[0])*12\n",
    "back=(interp_rate[-1]-interp_rate[-2])*12\n",
    "inst_forward_rate_deriv=(np.array(interp_rate[2:])-np.array(interp_rate[:-2]))*6\n",
    "inst_forward_rate_deriv=np.insert(inst_forward_rate_deriv,0,front)\n",
    "inst_forward_rate_deriv=np.insert(inst_forward_rate_deriv,-1,back)\n",
    "# derivative of instantaneous forward rate at=0 w.r.t to maturity date "
   ]
  },
  {
   "cell_type": "markdown",
   "metadata": {},
   "source": [
    "we know that for the Ho-Lee short rate model,\n",
    "$$\\theta(t)=\\frac{\\delta f^*}{\\delta T}(0,t)+\\sigma^2t$$\n",
    "then the Ho-Lee short rate model becomes\n",
    "$$dr=(\\frac{\\delta f^*}{\\delta T}(0,t)+\\sigma^2t)dt+\\sigma dW(t)^Q$$\n",
    "and we have\n",
    "$$r=r_0+f^*(0,t)+\\frac{\\sigma^2t^2}{2}+\\sigma W(t)^Q$$\n",
    "assuming $r_0=0$, we have\n",
    "$$r=f^*(0,t)+\\frac{\\sigma^2t^2}{2}+\\sigma W(t)^Q$$"
   ]
  },
  {
   "cell_type": "code",
   "execution_count": 29,
   "metadata": {},
   "outputs": [],
   "source": [
    "def r(t,rand):\n",
    "#Ho-Lee short rate model\n",
    "#t is time in unit of years\n",
    "    r=interp_rate[int(t*12)]+(sigma_r*t)**2/2+sigma_r*np.sqrt(t)*rand\n",
    "    return r"
   ]
  },
  {
   "cell_type": "markdown",
   "metadata": {},
   "source": [
    "Using the affine term structure, we can derive the closed form of Ho-Lee model bond price as\n",
    "$$p(t,T)=\\frac{p^*(0,T)}{p^*(0,t)}exp\\big\\{{(T-t)f^*(0,t)-\\frac{\\sigma^2}{2}t(T-t)^2-(T-t)r(t)}\\big\\}$$"
   ]
  },
  {
   "cell_type": "code",
   "execution_count": 30,
   "metadata": {},
   "outputs": [],
   "source": [
    "def p(t,T,rand):\n",
    "#Ho-Lee term structure bond prices\n",
    "#t and T are units of year\n",
    "    p=bond_price[int(T*12)]/bond_price[int(t*12)]*np.exp((T-t)*interp_rate[int(t*12)]-sigma_r**2/2*t*(T-t)**2-(T-t)*r(t,rand))\n",
    "    return p"
   ]
  },
  {
   "cell_type": "markdown",
   "metadata": {},
   "source": [
    "by Definition, the LIBOR forward rate is\n",
    "$$L(t,S,T)=-\\frac{p(t,T)-p(t,S)}{(T-S)p(t,T)}$$"
   ]
  },
  {
   "cell_type": "code",
   "execution_count": 31,
   "metadata": {},
   "outputs": [],
   "source": [
    "def L(t,S,T,rand):\n",
    "#Libor forward rate from bond price\n",
    "    l=-(p(t,T,rand)-p(t,S,rand))/((T-S)*p(t,T,rand))\n",
    "    return l"
   ]
  },
  {
   "cell_type": "code",
   "execution_count": 32,
   "metadata": {},
   "outputs": [
    {
     "name": "stdout",
     "output_type": "stream",
     "text": [
      "Option value: 0.13\n"
     ]
    }
   ],
   "source": [
    "N = 100000\n",
    "\n",
    "val = .0\n",
    "for i in range(N):\n",
    "    # generate two correlated normals\n",
    "    z0 = np.random.normal()\n",
    "    z1 = corrSL * z0 + np.sqrt(1 - corrSL**2) * np.random.normal()\n",
    "    \n",
    "    # generate the stock price\n",
    "    drift = rf + volS*volX*corrSX + volS*volT*corrST\n",
    "    stock_ratio = np.exp((drift -  0.5 * volS**2 ) * T + volS * np.sqrt(T) * z0)\n",
    "    \n",
    "    # generate the LIBOR\n",
    "    libor_ratio = L(T-delta_T,T-delta_T,T,z1) / L(0,T-delta_T,T,z1)\n",
    "\n",
    "    val += max((stock_ratio - stock_strike) * (libor_ratio - libor_strike), 0.)\n",
    "\n",
    "print(\"Option value: {:.2f}\".format(bond_price[int(T*12)] * val / N))"
   ]
  },
  {
   "cell_type": "markdown",
   "metadata": {},
   "source": [
    "### Conclusion:\n",
    "\n",
    "Different models led to different option prices because they rely on different assumptions and dynamics. The lognormal libor and stock price model with constant and stochastic volatility yielded close option prices with stochastic volatility leading to a higher price."
   ]
  }
 ],
 "metadata": {
  "kernelspec": {
   "display_name": "Python 3",
   "language": "python",
   "name": "python3"
  },
  "language_info": {
   "codemirror_mode": {
    "name": "ipython",
    "version": 3
   },
   "file_extension": ".py",
   "mimetype": "text/x-python",
   "name": "python",
   "nbconvert_exporter": "python",
   "pygments_lexer": "ipython3",
   "version": "3.8.3"
  }
 },
 "nbformat": 4,
 "nbformat_minor": 4
}
